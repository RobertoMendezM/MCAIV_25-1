{
  "nbformat": 4,
  "nbformat_minor": 0,
  "metadata": {
    "colab": {
      "provenance": []
    },
    "kernelspec": {
      "name": "python3",
      "display_name": "Python 3"
    },
    "language_info": {
      "name": "python"
    }
  },
  "cells": [
    {
      "cell_type": "markdown",
      "source": [
        "# Examen Final Matemáticas IV ENP 2\n",
        "## Resuelve el siguiente sistema de ecuaciones\n",
        "\\begin{align}\n",
        "2x + 3y + 4z & = 3 \\\\\n",
        "2x + 6y + 8z & = 5 \\\\\n",
        "4x + 9y - 4z & = 4 \\\\\n",
        "\\end{align}\n",
        "\n",
        "---\n",
        "editor: Roberto Méndez Méndez\n",
        "\n",
        "fecha: 21 Jun 24"
      ],
      "metadata": {
        "id": "xsfoPFfoMvbo"
      }
    },
    {
      "cell_type": "markdown",
      "source": [
        "## Solución utilizando herramientas  de python. Numpy y Scipy\n",
        "\n",
        "[scipy.linalg.solve](https://docs.scipy.org/doc/scipy/reference/generated/scipy.linalg.solve.html#scipy.linalg.solve)"
      ],
      "metadata": {
        "id": "viW3AEvPN850"
      }
    },
    {
      "cell_type": "code",
      "source": [
        "import numpy as np\n",
        "from scipy.linalg import solve"
      ],
      "metadata": {
        "id": "nFZKYm0zN8OI"
      },
      "execution_count": null,
      "outputs": []
    },
    {
      "cell_type": "code",
      "execution_count": null,
      "metadata": {
        "colab": {
          "base_uri": "https://localhost:8080/"
        },
        "id": "2TRxP4SuMtxz",
        "outputId": "067ea6e3-4da1-4e80-fda3-97abb75dca82"
      },
      "outputs": [
        {
          "output_type": "stream",
          "name": "stdout",
          "text": [
            "La solución del sistema es:  [0.5        0.33333333 0.25      ]\n"
          ]
        }
      ],
      "source": [
        "A = np.array([[2, 3, 4], [2, 6, 8], [4, 9, -4]])\n",
        "b = np.array([3, 5, 4])\n",
        "x = solve(A, b)\n",
        "print(\"La solución del sistema es: \", x)"
      ]
    },
    {
      "cell_type": "code",
      "source": [
        "np.allclose(np.dot(A, x), b)"
      ],
      "metadata": {
        "colab": {
          "base_uri": "https://localhost:8080/"
        },
        "id": "8hFnTX7VScIs",
        "outputId": "9d489014-f365-4a08-8c9a-b8cf4fc51c6e"
      },
      "execution_count": null,
      "outputs": [
        {
          "output_type": "execute_result",
          "data": {
            "text/plain": [
              "True"
            ]
          },
          "metadata": {},
          "execution_count": 5
        }
      ]
    },
    {
      "cell_type": "markdown",
      "source": [
        "## Utilizando únicamente numpy\n",
        "\n",
        "[numpy.linalg.solve](https://numpy.org/doc/stable/reference/generated/numpy.linalg.solve.html)"
      ],
      "metadata": {
        "id": "e1Kg8x7LimEz"
      }
    },
    {
      "cell_type": "code",
      "source": [
        "import numpy as np\n",
        "a = np.array([[2, 3, 4], [2, 6, 8], [4, 9, -4]])\n",
        "b = np.array([3, 5, 4])\n",
        "x = np.linalg.solve(a, b)\n",
        "print(\"La solución del sistema es: \", x)"
      ],
      "metadata": {
        "colab": {
          "base_uri": "https://localhost:8080/"
        },
        "id": "_ZE16dZeitZP",
        "outputId": "bf70ea82-2005-4480-ba62-cca47165485a"
      },
      "execution_count": null,
      "outputs": [
        {
          "output_type": "stream",
          "name": "stdout",
          "text": [
            "La solución del sistema es:  [0.5        0.33333333 0.25      ]\n"
          ]
        }
      ]
    },
    {
      "cell_type": "code",
      "source": [
        "import numpy as np\n",
        "a = [[2, 3, 4], [2, 6, 8], [4, 9, -4]]\n",
        "b = [3, 5, 4]\n",
        "x = np.linalg.solve(a, b)\n",
        "print(\"La solución del sistema es: \", x)"
      ],
      "metadata": {
        "colab": {
          "base_uri": "https://localhost:8080/"
        },
        "id": "F0P_YinPjGsb",
        "outputId": "07601ae9-feb3-4965-fc29-c1f2b04e12d6"
      },
      "execution_count": null,
      "outputs": [
        {
          "output_type": "stream",
          "name": "stdout",
          "text": [
            "La solución del sistema es:  [0.5        0.33333333 0.25      ]\n"
          ]
        }
      ]
    },
    {
      "cell_type": "markdown",
      "source": [
        "## Solución utilizando únicamente scipy"
      ],
      "metadata": {
        "id": "-5v3NXaGiYuc"
      }
    },
    {
      "cell_type": "code",
      "source": [
        "from scipy.linalg import solve\n",
        "\n",
        "a2 = [[2, 3, 4], [2, 6, 8], [4, 9, -4]]\n",
        "b2 = [3, 5, 4]\n",
        "x = solve(a2, b2)\n",
        "print(\"La solución del sistema es: \", x)"
      ],
      "metadata": {
        "colab": {
          "base_uri": "https://localhost:8080/"
        },
        "id": "9taQz7Zbd0mm",
        "outputId": "a87a1b03-0995-46e5-9182-e31290cabcd1"
      },
      "execution_count": null,
      "outputs": [
        {
          "output_type": "stream",
          "name": "stdout",
          "text": [
            "La solución del sistema es:  [0.5        0.33333333 0.25      ]\n"
          ]
        }
      ]
    },
    {
      "cell_type": "markdown",
      "source": [
        "## Solución con sympy"
      ],
      "metadata": {
        "id": "vduWpEF7fQar"
      }
    },
    {
      "cell_type": "code",
      "source": [
        "from sympy import symbols, linsolve\n",
        "\n",
        "x, y, z= symbols('x y z')\n",
        "\n",
        "sol = linsolve([2*x + 3*y + 4*z - 3, 2*x + 6*y + 8*z - 5, 4*x + 9*y - 4*z -4],\n",
        "         [x, y, z])\n",
        "print(\"La solución es: \", sol)"
      ],
      "metadata": {
        "colab": {
          "base_uri": "https://localhost:8080/"
        },
        "id": "dRjtt-JUfazp",
        "outputId": "8933e67c-3894-4aca-e922-17f2f0bfbf73"
      },
      "execution_count": null,
      "outputs": [
        {
          "output_type": "stream",
          "name": "stdout",
          "text": [
            "La solución es:  {(1/2, 1/3, 1/4)}\n"
          ]
        }
      ]
    }
  ]
}